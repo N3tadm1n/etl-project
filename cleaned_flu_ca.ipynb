{
 "cells": [
  {
   "cell_type": "code",
   "execution_count": 11,
   "metadata": {},
   "outputs": [],
   "source": [
    "# Dependencies\n",
    "import pandas as pd\n",
    "import datetime"
   ]
  },
  {
   "cell_type": "code",
   "execution_count": 12,
   "metadata": {},
   "outputs": [],
   "source": [
    "# Store filepath in a variable\n",
    "flu_data = \"covid_ca_csv.csv\""
   ]
  },
  {
   "cell_type": "code",
   "execution_count": 13,
   "metadata": {},
   "outputs": [],
   "source": [
    "# Read our Data file with the pandas library\n",
    "# Not every CSV requires an encoding, but be aware this can come up\n",
    "flu_data_df = pd.read_csv(flu_data)"
   ]
  },
  {
   "cell_type": "code",
   "execution_count": 14,
   "metadata": {},
   "outputs": [
    {
     "output_type": "execute_result",
     "data": {
      "text/plain": "        date       county       state    fips  cases  deaths\n0  1/25/2020       Orange  California  6059.0      1       0\n1  1/26/2020  Los Angeles  California  6037.0      1       0\n2  1/26/2020       Orange  California  6059.0      1       0\n3  1/27/2020  Los Angeles  California  6037.0      1       0\n4  1/27/2020       Orange  California  6059.0      1       0",
      "text/html": "<div>\n<style scoped>\n    .dataframe tbody tr th:only-of-type {\n        vertical-align: middle;\n    }\n\n    .dataframe tbody tr th {\n        vertical-align: top;\n    }\n\n    .dataframe thead th {\n        text-align: right;\n    }\n</style>\n<table border=\"1\" class=\"dataframe\">\n  <thead>\n    <tr style=\"text-align: right;\">\n      <th></th>\n      <th>date</th>\n      <th>county</th>\n      <th>state</th>\n      <th>fips</th>\n      <th>cases</th>\n      <th>deaths</th>\n    </tr>\n  </thead>\n  <tbody>\n    <tr>\n      <th>0</th>\n      <td>1/25/2020</td>\n      <td>Orange</td>\n      <td>California</td>\n      <td>6059.0</td>\n      <td>1</td>\n      <td>0</td>\n    </tr>\n    <tr>\n      <th>1</th>\n      <td>1/26/2020</td>\n      <td>Los Angeles</td>\n      <td>California</td>\n      <td>6037.0</td>\n      <td>1</td>\n      <td>0</td>\n    </tr>\n    <tr>\n      <th>2</th>\n      <td>1/26/2020</td>\n      <td>Orange</td>\n      <td>California</td>\n      <td>6059.0</td>\n      <td>1</td>\n      <td>0</td>\n    </tr>\n    <tr>\n      <th>3</th>\n      <td>1/27/2020</td>\n      <td>Los Angeles</td>\n      <td>California</td>\n      <td>6037.0</td>\n      <td>1</td>\n      <td>0</td>\n    </tr>\n    <tr>\n      <th>4</th>\n      <td>1/27/2020</td>\n      <td>Orange</td>\n      <td>California</td>\n      <td>6059.0</td>\n      <td>1</td>\n      <td>0</td>\n    </tr>\n  </tbody>\n</table>\n</div>"
     },
     "metadata": {},
     "execution_count": 14
    }
   ],
   "source": [
    "# Show just the header\n",
    "flu_data_df.head()"
   ]
  },
  {
   "cell_type": "code",
   "execution_count": 15,
   "metadata": {},
   "outputs": [
    {
     "output_type": "execute_result",
     "data": {
      "text/plain": "           date       county       state    fips  cases  deaths Standard_Date\n0     1/25/2020       Orange  California  6059.0      1       0    2020-01-25\n1     1/26/2020  Los Angeles  California  6037.0      1       0    2020-01-26\n2     1/26/2020       Orange  California  6059.0      1       0    2020-01-26\n3     1/27/2020  Los Angeles  California  6037.0      1       0    2020-01-27\n4     1/27/2020       Orange  California  6059.0      1       0    2020-01-27\n...         ...          ...         ...     ...    ...     ...           ...\n6154  6/30/2020       Tulare  California  6107.0   4156     126    2020-06-30\n6155  6/30/2020     Tuolumne  California  6109.0     30       0    2020-06-30\n6156  6/30/2020      Ventura  California  6111.0   2926      46    2020-06-30\n6157  6/30/2020         Yolo  California  6113.0    526      24    2020-06-30\n6158  6/30/2020         Yuba  California  6115.0     75       1    2020-06-30\n\n[6159 rows x 7 columns]",
      "text/html": "<div>\n<style scoped>\n    .dataframe tbody tr th:only-of-type {\n        vertical-align: middle;\n    }\n\n    .dataframe tbody tr th {\n        vertical-align: top;\n    }\n\n    .dataframe thead th {\n        text-align: right;\n    }\n</style>\n<table border=\"1\" class=\"dataframe\">\n  <thead>\n    <tr style=\"text-align: right;\">\n      <th></th>\n      <th>date</th>\n      <th>county</th>\n      <th>state</th>\n      <th>fips</th>\n      <th>cases</th>\n      <th>deaths</th>\n      <th>Standard_Date</th>\n    </tr>\n  </thead>\n  <tbody>\n    <tr>\n      <th>0</th>\n      <td>1/25/2020</td>\n      <td>Orange</td>\n      <td>California</td>\n      <td>6059.0</td>\n      <td>1</td>\n      <td>0</td>\n      <td>2020-01-25</td>\n    </tr>\n    <tr>\n      <th>1</th>\n      <td>1/26/2020</td>\n      <td>Los Angeles</td>\n      <td>California</td>\n      <td>6037.0</td>\n      <td>1</td>\n      <td>0</td>\n      <td>2020-01-26</td>\n    </tr>\n    <tr>\n      <th>2</th>\n      <td>1/26/2020</td>\n      <td>Orange</td>\n      <td>California</td>\n      <td>6059.0</td>\n      <td>1</td>\n      <td>0</td>\n      <td>2020-01-26</td>\n    </tr>\n    <tr>\n      <th>3</th>\n      <td>1/27/2020</td>\n      <td>Los Angeles</td>\n      <td>California</td>\n      <td>6037.0</td>\n      <td>1</td>\n      <td>0</td>\n      <td>2020-01-27</td>\n    </tr>\n    <tr>\n      <th>4</th>\n      <td>1/27/2020</td>\n      <td>Orange</td>\n      <td>California</td>\n      <td>6059.0</td>\n      <td>1</td>\n      <td>0</td>\n      <td>2020-01-27</td>\n    </tr>\n    <tr>\n      <th>...</th>\n      <td>...</td>\n      <td>...</td>\n      <td>...</td>\n      <td>...</td>\n      <td>...</td>\n      <td>...</td>\n      <td>...</td>\n    </tr>\n    <tr>\n      <th>6154</th>\n      <td>6/30/2020</td>\n      <td>Tulare</td>\n      <td>California</td>\n      <td>6107.0</td>\n      <td>4156</td>\n      <td>126</td>\n      <td>2020-06-30</td>\n    </tr>\n    <tr>\n      <th>6155</th>\n      <td>6/30/2020</td>\n      <td>Tuolumne</td>\n      <td>California</td>\n      <td>6109.0</td>\n      <td>30</td>\n      <td>0</td>\n      <td>2020-06-30</td>\n    </tr>\n    <tr>\n      <th>6156</th>\n      <td>6/30/2020</td>\n      <td>Ventura</td>\n      <td>California</td>\n      <td>6111.0</td>\n      <td>2926</td>\n      <td>46</td>\n      <td>2020-06-30</td>\n    </tr>\n    <tr>\n      <th>6157</th>\n      <td>6/30/2020</td>\n      <td>Yolo</td>\n      <td>California</td>\n      <td>6113.0</td>\n      <td>526</td>\n      <td>24</td>\n      <td>2020-06-30</td>\n    </tr>\n    <tr>\n      <th>6158</th>\n      <td>6/30/2020</td>\n      <td>Yuba</td>\n      <td>California</td>\n      <td>6115.0</td>\n      <td>75</td>\n      <td>1</td>\n      <td>2020-06-30</td>\n    </tr>\n  </tbody>\n</table>\n<p>6159 rows × 7 columns</p>\n</div>"
     },
     "metadata": {},
     "execution_count": 15
    }
   ],
   "source": [
    "# Converting irregular date column to standard date format in Pandas\n",
    "flu_data_df['Standard_Date']=pd.to_datetime(flu_data_df.date,errors='coerce')\n",
    "flu_data_df"
   ]
  },
  {
   "cell_type": "code",
   "execution_count": 16,
   "metadata": {},
   "outputs": [
    {
     "output_type": "execute_result",
     "data": {
      "text/plain": "           county       state    fips  cases  deaths Standard_Date\n0          Orange  California  6059.0      1       0    2020-01-25\n1     Los Angeles  California  6037.0      1       0    2020-01-26\n2          Orange  California  6059.0      1       0    2020-01-26\n3     Los Angeles  California  6037.0      1       0    2020-01-27\n4          Orange  California  6059.0      1       0    2020-01-27\n...           ...         ...     ...    ...     ...           ...\n6154       Tulare  California  6107.0   4156     126    2020-06-30\n6155     Tuolumne  California  6109.0     30       0    2020-06-30\n6156      Ventura  California  6111.0   2926      46    2020-06-30\n6157         Yolo  California  6113.0    526      24    2020-06-30\n6158         Yuba  California  6115.0     75       1    2020-06-30\n\n[6159 rows x 6 columns]",
      "text/html": "<div>\n<style scoped>\n    .dataframe tbody tr th:only-of-type {\n        vertical-align: middle;\n    }\n\n    .dataframe tbody tr th {\n        vertical-align: top;\n    }\n\n    .dataframe thead th {\n        text-align: right;\n    }\n</style>\n<table border=\"1\" class=\"dataframe\">\n  <thead>\n    <tr style=\"text-align: right;\">\n      <th></th>\n      <th>county</th>\n      <th>state</th>\n      <th>fips</th>\n      <th>cases</th>\n      <th>deaths</th>\n      <th>Standard_Date</th>\n    </tr>\n  </thead>\n  <tbody>\n    <tr>\n      <th>0</th>\n      <td>Orange</td>\n      <td>California</td>\n      <td>6059.0</td>\n      <td>1</td>\n      <td>0</td>\n      <td>2020-01-25</td>\n    </tr>\n    <tr>\n      <th>1</th>\n      <td>Los Angeles</td>\n      <td>California</td>\n      <td>6037.0</td>\n      <td>1</td>\n      <td>0</td>\n      <td>2020-01-26</td>\n    </tr>\n    <tr>\n      <th>2</th>\n      <td>Orange</td>\n      <td>California</td>\n      <td>6059.0</td>\n      <td>1</td>\n      <td>0</td>\n      <td>2020-01-26</td>\n    </tr>\n    <tr>\n      <th>3</th>\n      <td>Los Angeles</td>\n      <td>California</td>\n      <td>6037.0</td>\n      <td>1</td>\n      <td>0</td>\n      <td>2020-01-27</td>\n    </tr>\n    <tr>\n      <th>4</th>\n      <td>Orange</td>\n      <td>California</td>\n      <td>6059.0</td>\n      <td>1</td>\n      <td>0</td>\n      <td>2020-01-27</td>\n    </tr>\n    <tr>\n      <th>...</th>\n      <td>...</td>\n      <td>...</td>\n      <td>...</td>\n      <td>...</td>\n      <td>...</td>\n      <td>...</td>\n    </tr>\n    <tr>\n      <th>6154</th>\n      <td>Tulare</td>\n      <td>California</td>\n      <td>6107.0</td>\n      <td>4156</td>\n      <td>126</td>\n      <td>2020-06-30</td>\n    </tr>\n    <tr>\n      <th>6155</th>\n      <td>Tuolumne</td>\n      <td>California</td>\n      <td>6109.0</td>\n      <td>30</td>\n      <td>0</td>\n      <td>2020-06-30</td>\n    </tr>\n    <tr>\n      <th>6156</th>\n      <td>Ventura</td>\n      <td>California</td>\n      <td>6111.0</td>\n      <td>2926</td>\n      <td>46</td>\n      <td>2020-06-30</td>\n    </tr>\n    <tr>\n      <th>6157</th>\n      <td>Yolo</td>\n      <td>California</td>\n      <td>6113.0</td>\n      <td>526</td>\n      <td>24</td>\n      <td>2020-06-30</td>\n    </tr>\n    <tr>\n      <th>6158</th>\n      <td>Yuba</td>\n      <td>California</td>\n      <td>6115.0</td>\n      <td>75</td>\n      <td>1</td>\n      <td>2020-06-30</td>\n    </tr>\n  </tbody>\n</table>\n<p>6159 rows × 6 columns</p>\n</div>"
     },
     "metadata": {},
     "execution_count": 16
    }
   ],
   "source": [
    "# Removing irregular date from table - no longer required\n",
    "flu_data_clean_df = flu_data_df.drop(columns=['date'])\n",
    "flu_data_clean_df"
   ]
  },
  {
   "cell_type": "code",
   "execution_count": 17,
   "metadata": {},
   "outputs": [
    {
     "output_type": "execute_result",
     "data": {
      "text/plain": "           county       state    fips  cases  deaths Standard_Date week\n0          Orange  California  6059.0      1       0    2020-01-25   03\n1     Los Angeles  California  6037.0      1       0    2020-01-26   04\n2          Orange  California  6059.0      1       0    2020-01-26   04\n3     Los Angeles  California  6037.0      1       0    2020-01-27   04\n4          Orange  California  6059.0      1       0    2020-01-27   04\n...           ...         ...     ...    ...     ...           ...  ...\n6154       Tulare  California  6107.0   4156     126    2020-06-30   26\n6155     Tuolumne  California  6109.0     30       0    2020-06-30   26\n6156      Ventura  California  6111.0   2926      46    2020-06-30   26\n6157         Yolo  California  6113.0    526      24    2020-06-30   26\n6158         Yuba  California  6115.0     75       1    2020-06-30   26\n\n[6159 rows x 7 columns]",
      "text/html": "<div>\n<style scoped>\n    .dataframe tbody tr th:only-of-type {\n        vertical-align: middle;\n    }\n\n    .dataframe tbody tr th {\n        vertical-align: top;\n    }\n\n    .dataframe thead th {\n        text-align: right;\n    }\n</style>\n<table border=\"1\" class=\"dataframe\">\n  <thead>\n    <tr style=\"text-align: right;\">\n      <th></th>\n      <th>county</th>\n      <th>state</th>\n      <th>fips</th>\n      <th>cases</th>\n      <th>deaths</th>\n      <th>Standard_Date</th>\n      <th>week</th>\n    </tr>\n  </thead>\n  <tbody>\n    <tr>\n      <th>0</th>\n      <td>Orange</td>\n      <td>California</td>\n      <td>6059.0</td>\n      <td>1</td>\n      <td>0</td>\n      <td>2020-01-25</td>\n      <td>03</td>\n    </tr>\n    <tr>\n      <th>1</th>\n      <td>Los Angeles</td>\n      <td>California</td>\n      <td>6037.0</td>\n      <td>1</td>\n      <td>0</td>\n      <td>2020-01-26</td>\n      <td>04</td>\n    </tr>\n    <tr>\n      <th>2</th>\n      <td>Orange</td>\n      <td>California</td>\n      <td>6059.0</td>\n      <td>1</td>\n      <td>0</td>\n      <td>2020-01-26</td>\n      <td>04</td>\n    </tr>\n    <tr>\n      <th>3</th>\n      <td>Los Angeles</td>\n      <td>California</td>\n      <td>6037.0</td>\n      <td>1</td>\n      <td>0</td>\n      <td>2020-01-27</td>\n      <td>04</td>\n    </tr>\n    <tr>\n      <th>4</th>\n      <td>Orange</td>\n      <td>California</td>\n      <td>6059.0</td>\n      <td>1</td>\n      <td>0</td>\n      <td>2020-01-27</td>\n      <td>04</td>\n    </tr>\n    <tr>\n      <th>...</th>\n      <td>...</td>\n      <td>...</td>\n      <td>...</td>\n      <td>...</td>\n      <td>...</td>\n      <td>...</td>\n      <td>...</td>\n    </tr>\n    <tr>\n      <th>6154</th>\n      <td>Tulare</td>\n      <td>California</td>\n      <td>6107.0</td>\n      <td>4156</td>\n      <td>126</td>\n      <td>2020-06-30</td>\n      <td>26</td>\n    </tr>\n    <tr>\n      <th>6155</th>\n      <td>Tuolumne</td>\n      <td>California</td>\n      <td>6109.0</td>\n      <td>30</td>\n      <td>0</td>\n      <td>2020-06-30</td>\n      <td>26</td>\n    </tr>\n    <tr>\n      <th>6156</th>\n      <td>Ventura</td>\n      <td>California</td>\n      <td>6111.0</td>\n      <td>2926</td>\n      <td>46</td>\n      <td>2020-06-30</td>\n      <td>26</td>\n    </tr>\n    <tr>\n      <th>6157</th>\n      <td>Yolo</td>\n      <td>California</td>\n      <td>6113.0</td>\n      <td>526</td>\n      <td>24</td>\n      <td>2020-06-30</td>\n      <td>26</td>\n    </tr>\n    <tr>\n      <th>6158</th>\n      <td>Yuba</td>\n      <td>California</td>\n      <td>6115.0</td>\n      <td>75</td>\n      <td>1</td>\n      <td>2020-06-30</td>\n      <td>26</td>\n    </tr>\n  </tbody>\n</table>\n<p>6159 rows × 7 columns</p>\n</div>"
     },
     "metadata": {},
     "execution_count": 17
    }
   ],
   "source": [
    "# converting the standard date format to the week number in the year\n",
    "flu_data_clean_df['week'] = flu_data_clean_df['Standard_Date'].dt.strftime('%U')\n",
    "flu_data_clean_df"
   ]
  },
  {
   "cell_type": "code",
   "execution_count": 18,
   "metadata": {},
   "outputs": [
    {
     "output_type": "execute_result",
     "data": {
      "text/plain": "           state  cases  deaths week\n0     California      1       0   03\n1     California      1       0   04\n2     California      1       0   04\n3     California      1       0   04\n4     California      1       0   04\n...          ...    ...     ...  ...\n6154  California   4156     126   26\n6155  California     30       0   26\n6156  California   2926      46   26\n6157  California    526      24   26\n6158  California     75       1   26\n\n[6159 rows x 4 columns]",
      "text/html": "<div>\n<style scoped>\n    .dataframe tbody tr th:only-of-type {\n        vertical-align: middle;\n    }\n\n    .dataframe tbody tr th {\n        vertical-align: top;\n    }\n\n    .dataframe thead th {\n        text-align: right;\n    }\n</style>\n<table border=\"1\" class=\"dataframe\">\n  <thead>\n    <tr style=\"text-align: right;\">\n      <th></th>\n      <th>state</th>\n      <th>cases</th>\n      <th>deaths</th>\n      <th>week</th>\n    </tr>\n  </thead>\n  <tbody>\n    <tr>\n      <th>0</th>\n      <td>California</td>\n      <td>1</td>\n      <td>0</td>\n      <td>03</td>\n    </tr>\n    <tr>\n      <th>1</th>\n      <td>California</td>\n      <td>1</td>\n      <td>0</td>\n      <td>04</td>\n    </tr>\n    <tr>\n      <th>2</th>\n      <td>California</td>\n      <td>1</td>\n      <td>0</td>\n      <td>04</td>\n    </tr>\n    <tr>\n      <th>3</th>\n      <td>California</td>\n      <td>1</td>\n      <td>0</td>\n      <td>04</td>\n    </tr>\n    <tr>\n      <th>4</th>\n      <td>California</td>\n      <td>1</td>\n      <td>0</td>\n      <td>04</td>\n    </tr>\n    <tr>\n      <th>...</th>\n      <td>...</td>\n      <td>...</td>\n      <td>...</td>\n      <td>...</td>\n    </tr>\n    <tr>\n      <th>6154</th>\n      <td>California</td>\n      <td>4156</td>\n      <td>126</td>\n      <td>26</td>\n    </tr>\n    <tr>\n      <th>6155</th>\n      <td>California</td>\n      <td>30</td>\n      <td>0</td>\n      <td>26</td>\n    </tr>\n    <tr>\n      <th>6156</th>\n      <td>California</td>\n      <td>2926</td>\n      <td>46</td>\n      <td>26</td>\n    </tr>\n    <tr>\n      <th>6157</th>\n      <td>California</td>\n      <td>526</td>\n      <td>24</td>\n      <td>26</td>\n    </tr>\n    <tr>\n      <th>6158</th>\n      <td>California</td>\n      <td>75</td>\n      <td>1</td>\n      <td>26</td>\n    </tr>\n  </tbody>\n</table>\n<p>6159 rows × 4 columns</p>\n</div>"
     },
     "metadata": {},
     "execution_count": 18
    }
   ],
   "source": [
    "# streamlined table\n",
    "flu_data_relevant_columns_df = flu_data_clean_df[['state', 'cases', 'deaths', 'week']]\n",
    "flu_data_relevant_columns_df\n"
   ]
  },
  {
   "cell_type": "code",
   "execution_count": 20,
   "metadata": {},
   "outputs": [
    {
     "output_type": "execute_result",
     "data": {
      "text/plain": "week\n03          1\n04         16\n05         42\n06         48\n07         54\n08        138\n09        419\n10       1618\n11       6585\n12      24459\n13      69737\n14     132124\n15     188891\n16     262315\n17     340914\n18     424961\n19     512828\n20     604519\n21     714773\n22     845819\n23     985096\n24    1143959\n25    1370248\n26     673103\nName: cases, dtype: int64"
     },
     "metadata": {},
     "execution_count": 20
    }
   ],
   "source": [
    "# code to add up cases if week is same\n",
    "\n",
    "flu_data_relevant_group_columns_df = flu_data_relevant_columns_df.groupby([\"week\"])\n",
    "\n",
    "Total_cases_per_week_df = flu_data_relevant_group_columns_df[\"cases\"].sum()\n",
    "\n",
    "Total_cases_per_week_df\n"
   ]
  },
  {
   "cell_type": "code",
   "execution_count": 22,
   "metadata": {},
   "outputs": [
    {
     "output_type": "execute_result",
     "data": {
      "text/plain": "week\n03        0\n04        0\n05        0\n06        0\n07        0\n08        0\n09        4\n10       24\n11      119\n12      503\n13     1527\n14     3464\n15     6231\n16     9999\n17    13778\n18    17339\n19    20990\n20    24630\n21    27818\n22    30971\n23    33962\n24    36973\n25    40027\n26    17999\nName: deaths, dtype: int64"
     },
     "metadata": {},
     "execution_count": 22
    }
   ],
   "source": [
    "# code to add up deaths if week is same\n",
    "\n",
    "Total_deaths_per_week_df = flu_data_relevant_group_columns_df[\"deaths\"].sum()\n",
    "\n",
    "Total_deaths_per_week_df"
   ]
  },
  {
   "cell_type": "code",
   "execution_count": 35,
   "metadata": {},
   "outputs": [
    {
     "output_type": "execute_result",
     "data": {
      "text/plain": "        cases  deaths       state\nweek                             \n03          1       0  california\n04         16       0  california\n05         42       0  california\n06         48       0  california\n07         54       0  california\n08        138       0  california\n09        419       4  california\n10       1618      24  california\n11       6585     119  california\n12      24459     503  california\n13      69737    1527  california\n14     132124    3464  california\n15     188891    6231  california\n16     262315    9999  california\n17     340914   13778  california\n18     424961   17339  california\n19     512828   20990  california\n20     604519   24630  california\n21     714773   27818  california\n22     845819   30971  california\n23     985096   33962  california\n24    1143959   36973  california\n25    1370248   40027  california\n26     673103   17999  california",
      "text/html": "<div>\n<style scoped>\n    .dataframe tbody tr th:only-of-type {\n        vertical-align: middle;\n    }\n\n    .dataframe tbody tr th {\n        vertical-align: top;\n    }\n\n    .dataframe thead th {\n        text-align: right;\n    }\n</style>\n<table border=\"1\" class=\"dataframe\">\n  <thead>\n    <tr style=\"text-align: right;\">\n      <th></th>\n      <th>cases</th>\n      <th>deaths</th>\n      <th>state</th>\n    </tr>\n    <tr>\n      <th>week</th>\n      <th></th>\n      <th></th>\n      <th></th>\n    </tr>\n  </thead>\n  <tbody>\n    <tr>\n      <th>03</th>\n      <td>1</td>\n      <td>0</td>\n      <td>california</td>\n    </tr>\n    <tr>\n      <th>04</th>\n      <td>16</td>\n      <td>0</td>\n      <td>california</td>\n    </tr>\n    <tr>\n      <th>05</th>\n      <td>42</td>\n      <td>0</td>\n      <td>california</td>\n    </tr>\n    <tr>\n      <th>06</th>\n      <td>48</td>\n      <td>0</td>\n      <td>california</td>\n    </tr>\n    <tr>\n      <th>07</th>\n      <td>54</td>\n      <td>0</td>\n      <td>california</td>\n    </tr>\n    <tr>\n      <th>08</th>\n      <td>138</td>\n      <td>0</td>\n      <td>california</td>\n    </tr>\n    <tr>\n      <th>09</th>\n      <td>419</td>\n      <td>4</td>\n      <td>california</td>\n    </tr>\n    <tr>\n      <th>10</th>\n      <td>1618</td>\n      <td>24</td>\n      <td>california</td>\n    </tr>\n    <tr>\n      <th>11</th>\n      <td>6585</td>\n      <td>119</td>\n      <td>california</td>\n    </tr>\n    <tr>\n      <th>12</th>\n      <td>24459</td>\n      <td>503</td>\n      <td>california</td>\n    </tr>\n    <tr>\n      <th>13</th>\n      <td>69737</td>\n      <td>1527</td>\n      <td>california</td>\n    </tr>\n    <tr>\n      <th>14</th>\n      <td>132124</td>\n      <td>3464</td>\n      <td>california</td>\n    </tr>\n    <tr>\n      <th>15</th>\n      <td>188891</td>\n      <td>6231</td>\n      <td>california</td>\n    </tr>\n    <tr>\n      <th>16</th>\n      <td>262315</td>\n      <td>9999</td>\n      <td>california</td>\n    </tr>\n    <tr>\n      <th>17</th>\n      <td>340914</td>\n      <td>13778</td>\n      <td>california</td>\n    </tr>\n    <tr>\n      <th>18</th>\n      <td>424961</td>\n      <td>17339</td>\n      <td>california</td>\n    </tr>\n    <tr>\n      <th>19</th>\n      <td>512828</td>\n      <td>20990</td>\n      <td>california</td>\n    </tr>\n    <tr>\n      <th>20</th>\n      <td>604519</td>\n      <td>24630</td>\n      <td>california</td>\n    </tr>\n    <tr>\n      <th>21</th>\n      <td>714773</td>\n      <td>27818</td>\n      <td>california</td>\n    </tr>\n    <tr>\n      <th>22</th>\n      <td>845819</td>\n      <td>30971</td>\n      <td>california</td>\n    </tr>\n    <tr>\n      <th>23</th>\n      <td>985096</td>\n      <td>33962</td>\n      <td>california</td>\n    </tr>\n    <tr>\n      <th>24</th>\n      <td>1143959</td>\n      <td>36973</td>\n      <td>california</td>\n    </tr>\n    <tr>\n      <th>25</th>\n      <td>1370248</td>\n      <td>40027</td>\n      <td>california</td>\n    </tr>\n    <tr>\n      <th>26</th>\n      <td>673103</td>\n      <td>17999</td>\n      <td>california</td>\n    </tr>\n  </tbody>\n</table>\n</div>"
     },
     "metadata": {},
     "execution_count": 35
    }
   ],
   "source": [
    "# cleaned COVID 19 table \n",
    "\n",
    "COVID_table_df = pd.DataFrame({\"cases\": Total_cases_per_week_df,\"deaths\": Total_deaths_per_week_df,\"state\": \"california\"})\n",
    "COVID_table_df\n"
   ]
  },
  {
   "cell_type": "code",
   "execution_count": 37,
   "metadata": {},
   "outputs": [],
   "source": [
    "# Export file as a CSV, without the Pandas index, but with the header\n",
    "COVID_table_df.to_csv(\"COVID_cleaned_data.csv\", index=True, header=True )"
   ]
  },
  {
   "cell_type": "code",
   "execution_count": null,
   "metadata": {},
   "outputs": [],
   "source": []
  }
 ],
 "metadata": {
  "anaconda-cloud": {},
  "kernelspec": {
   "display_name": "Python 3",
   "language": "python",
   "name": "python3"
  },
  "language_info": {
   "codemirror_mode": {
    "name": "ipython",
    "version": 3
   },
   "file_extension": ".py",
   "mimetype": "text/x-python",
   "name": "python",
   "nbconvert_exporter": "python",
   "pygments_lexer": "ipython3",
   "version": "3.7.7-final"
  }
 },
 "nbformat": 4,
 "nbformat_minor": 2
}